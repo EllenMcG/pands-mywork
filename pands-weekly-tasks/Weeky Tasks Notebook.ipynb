{
 "cells": [
  {
   "cell_type": "markdown",
   "id": "e2f23404",
   "metadata": {},
   "source": [
    "# Weekly Tasks Notebook\n"
   ]
  },
  {
   "cell_type": "markdown",
   "id": "bfb9e631",
   "metadata": {},
   "source": [
    "Jupyter notebook compilation of eight weekly tasks completed in Jan-Apr 2024 for Programming and Scripting as part of the\n",
    "Higher Diploma in Computing (Data Analysis) at ATU Galway. \n",
    "\n",
    "This notebook servers as a compilation of all 8 weekly activities and the comments and research about how to perform the task\n",
    "\n",
    "Table on contents \n",
    "\n",
    "- [Week 01](#Week-01)\n",
    "- [Week 02](#Week-02)\n",
    "- [Week 03](#Week-03)\n",
    "- [Week 04](#Week-04)\n",
    "- [Week 05](#Week-05)\n",
    "- [Week 06](#Week-06)\n",
    "- [Week 07](#Week-07)\n",
    "- [Week 08](#Week-08)"
   ]
  },
  {
   "cell_type": "markdown",
   "id": "52563f15",
   "metadata": {},
   "source": [
    "## Week 01"
   ]
  },
  {
   "cell_type": "markdown",
   "id": "6bd5a509",
   "metadata": {},
   "source": [
    "For week one no python program was required to be completed. Instead a repo on Github was created called [pands-weekly-tasks](https://github.com/EllenMcG/pands-mywork/tree/main/pands-weekly-tasks) so that the python programs can be stored. \n",
    "\n",
    "The main repo contains the weekly lab exercies calleds [pands-mywork](https://github.com/EllenMcG/pands-mywork/tree/main)"
   ]
  },
  {
   "cell_type": "markdown",
   "id": "49cd070d",
   "metadata": {},
   "source": [
    "## Week 02"
   ]
  },
  {
   "cell_type": "markdown",
   "id": "ac68581e",
   "metadata": {},
   "source": [
    "#### Background \n",
    "\n",
    "Write a program called bank.py \n",
    "\n",
    "The program should:\n",
    "- Prompt the user and read in two money amounts (in cent)\n",
    "- Add the two amounts\n",
    "- Print out the answer in a human readable format with a euro sign and decimal point between the euro and cent of the amount "
   ]
  },
  {
   "cell_type": "markdown",
   "id": "80b948af",
   "metadata": {},
   "source": [
    "#### Background and comments "
   ]
  },
  {
   "cell_type": "markdown",
   "id": "369a627a",
   "metadata": {},
   "source": [
    "This program just prints out the addition of two inputs in cents and performs an addition on the two inputs and returns the addition of the inputs as Euro recorded to two decimal places.\n",
    "\n",
    "The result can be stored as a float, but due to the way floats are stored floats are not a good way to store currency. While it may not cause an error (imprecision error) in the below format. When multiple addition, subtratation, etc operations are performed on the currency value then these floats (or floating point numbers) imprecision can be added to the currency due to rounding errors. For this reason, total amount will be returned as a decimal rather than a float using the decmimal package\n",
    "\n",
    "Background reading on floating point numbers and the decimal module [URL1](https://husobee.github.io/money/float/2016/09/23/never-use-floats-for-currency.html) & [URL2](https://docs.python.org/3/library/decimal.html)\n"
   ]
  },
  {
   "cell_type": "markdown",
   "id": "64799b3a",
   "metadata": {},
   "source": [
    "#### Code "
   ]
  },
  {
   "cell_type": "code",
   "execution_count": 1,
   "id": "c93293b9",
   "metadata": {},
   "outputs": [
    {
     "name": "stdout",
     "output_type": "stream",
     "text": [
      "Enter amount1(in cent): 245\n",
      "Enter amount2(in cent): 66\n",
      "The sum of these is €3.11\n"
     ]
    }
   ],
   "source": [
    "from decimal import *\n",
    "# both inputs are converted to intergers so that they can be added\n",
    "amount1 = int(input(\"Enter amount1(in cent): \")) \n",
    "amount2 = int(input(\"Enter amount2(in cent): \"))\n",
    "\n",
    "\n",
    "# dividing by 100 to convert cent amount to Euro amount\n",
    "total_amount = Decimal((amount1 + amount2)/100)\n",
    "\n",
    "# .2f indicates that rounding is done to two decimal places\n",
    "# adding the euro sign using unicode character name\n",
    "\n",
    "print(f\"The sum of these is \\N{euro sign}{total_amount:.2f}\")"
   ]
  },
  {
   "cell_type": "markdown",
   "id": "05905a80",
   "metadata": {},
   "source": [
    "## Week 03"
   ]
  },
  {
   "cell_type": "markdown",
   "id": "9fb26ef6",
   "metadata": {},
   "source": [
    "Write a python program called accounts.py that reads in a 10 character account number and outputs the account number with only the last 4 digits showing (and the first 6 digits replaced with Xs)\n",
    "\n",
    "**Extra** Modify the program to deal with account numbers of any length"
   ]
  },
  {
   "cell_type": "markdown",
   "id": "58e9ab95",
   "metadata": {},
   "source": [
    "#### Code "
   ]
  },
  {
   "cell_type": "code",
   "execution_count": 2,
   "id": "3ddd72a4",
   "metadata": {},
   "outputs": [
    {
     "name": "stdout",
     "output_type": "stream",
     "text": [
      "Please enter a 10 digit account number: 0123456789\n",
      "XXXXXX6789\n"
     ]
    }
   ],
   "source": [
    "input_account_number = str(input(\"Please enter a 10 digit account number: \"))\n",
    "print(f\"XXXXXX{input_account_number[6:10]}\")"
   ]
  },
  {
   "cell_type": "markdown",
   "id": "156973aa",
   "metadata": {},
   "source": [
    "#### Extra\n",
    "\n",
    "The above program is rewritten to get the last 4 digits of an account number of differing length so the abolve indexing will not work. Negative indexing will work and research to find this solution to the problem was done with assistance from the pointer ([URL](https://thispointer.com/python-how-to-get-last-n-characters-in-a-string/))\n",
    "\n",
    "The second problem was how to change the number of X's returned with a variable account number. This was done with a lot of trail and  error and the best way I've found to do it was to get to length of the input string and take 4 away from it. This returns the number of X's to be placed before the last few digits. I coud then used that number to multiply the number of X's required so that now I can return any account number of variable length and the last four digts will be returned by negative indexing and the number of X's is returned using a calculation"
   ]
  },
  {
   "cell_type": "code",
   "execution_count": 3,
   "id": "ac4fd5fa",
   "metadata": {},
   "outputs": [
    {
     "name": "stdout",
     "output_type": "stream",
     "text": [
      "Please enter an account number: 010293858101\n",
      "XXXXXXXX8101\n"
     ]
    }
   ],
   "source": [
    "input_account_number2 = str(input(\"Please enter an account number: \"))\n",
    "last_4_characters = input_account_number2[-4:]\n",
    "length_of_account_num = len(input_account_number2) - 4 \n",
    "number_of_X = length_of_account_num * 'X'\n",
    "print(f\"{number_of_X}{last_4_characters}\")"
   ]
  },
  {
   "cell_type": "markdown",
   "id": "06d20609",
   "metadata": {},
   "source": [
    "## Week 04"
   ]
  },
  {
   "cell_type": "markdown",
   "id": "5bb42dc1",
   "metadata": {},
   "source": [
    "Write a program, called collatz.py, that asks the user to input any positive integer and outputs the successive values of the following calculation.\n",
    "\n",
    "At each step calculate the next value by taking the current value and, if it is even, divide it by two, but if it is odd, multiply it by three and add one."
   ]
  },
  {
   "cell_type": "markdown",
   "id": "a9a47ad7",
   "metadata": {},
   "source": [
    "#### Background and Comments"
   ]
  },
  {
   "cell_type": "markdown",
   "id": "b33e85c6",
   "metadata": {},
   "source": [
    "This program calculates the  Collatz Conjecture. The Collatz Conjecture is a famous unsolved problem within mathematics that takes a positive interger and if it is even (i.e, it the remainder is 0 when divided by 2 ( in the below program \n",
    "this is done using the modulo operator to check if the remainder is 0 using num%2==0) it is then be divided by 2, \n",
    "else it is odd. If the interger is odd then it is multiplied by 3 and 1 is added. The interesting part about the Collatz Conjecture is that the last three digits are always 4,2,1 in that sequence, however it hasn't being proved \n",
    "that there is not an interger value that dosn't have this terminal sequence. The below program starts with a while statement to start the if/else loop only if the input number is not 1. It is stopped then as otherwise it will stay in the loop for the 4,2,1 sequence. \n",
    "\n",
    "Background reading on the problem: [Link1](https://mathworld.wolfram.com/CollatzProblem.html)\n",
    "\n",
    "Webpages used to assist in coding this problem: [Link2](https://hackernoon.com/implementing-3x1-in-python), [Link3](https://exercism.org/tracks/python/exercises/collatz-conjecture/dig_deeper), and [Link4](https://www.r-bloggers.com/2019/03/learning-r-the-collatz-conjecture/)"
   ]
  },
  {
   "cell_type": "markdown",
   "id": "f595e5f8",
   "metadata": {},
   "source": [
    "#### Code"
   ]
  },
  {
   "cell_type": "code",
   "execution_count": 4,
   "id": "dde51525",
   "metadata": {},
   "outputs": [
    {
     "name": "stdout",
     "output_type": "stream",
     "text": [
      "Please enter a positive integer: 37\n",
      "[37, 112, 56, 28, 14, 7, 22, 11, 34, 17, 52, 26, 13, 40, 20, 10, 5, 16, 8, 4, 2, 1]\n"
     ]
    }
   ],
   "source": [
    "num = int(input('Please enter a positive integer: '))\n",
    "sequence = [num] # numbers stored in a python array\n",
    "while(num != 1): # This while statement start the loop if the interger is not 1, else the program will be stuck in a loop of\n",
    "    # 4,2, and 1. The if/else statement works here as only two outcomes, odd or even numbers\n",
    "    if((num%2)==0): # To check for even number\n",
    "        num = num // 2 \n",
    "    else: # else part of statement is for running the odd number, 3N+1\n",
    "        num = (num*3) + 1\n",
    "    sequence.append(num)\n",
    "print(sequence) # Prints the interger steps to reach the interger 1"
   ]
  },
  {
   "cell_type": "markdown",
   "id": "4903fae3",
   "metadata": {},
   "source": [
    "## Week 05"
   ]
  },
  {
   "cell_type": "markdown",
   "id": "bd040d61",
   "metadata": {},
   "source": [
    "Write a program that outputs whether or not today is a weekday (the program should be called weekday.py)."
   ]
  },
  {
   "cell_type": "markdown",
   "id": "127b4e47",
   "metadata": {},
   "source": [
    "#### Background and Comments"
   ]
  },
  {
   "cell_type": "markdown",
   "id": "de83f17d",
   "metadata": {},
   "source": [
    "his python program using the datetime module available for python. The today() function checks what the date is today. The weekday() fuction is then applied which returns an interger of the day of the week from 0 (Monday) to 6 (Sunday). This can then be wrapped in an if/else statement. If the day value is less than 5 (i.e., day is in the range of 0 to 4 for Monday to Friday) then the first print statement is printed. If the first statement is false then the else statement takes over and it is the weekend, i.e., day has a value of 5 or 6 (Saturday or Sunday). The SheCodes [website](https://www.shecodes.io/athena/10185-how-to-check-what-day-of-the-week-it-is-in-python#:~:text=date%20using%20datetime.-,datetime.,%20to%206%20(Sunday) was useful in order to get background to the datetime.today().weekday() functionality \n"
   ]
  },
  {
   "cell_type": "markdown",
   "id": "5ce7ef58",
   "metadata": {},
   "source": [
    "#### Code "
   ]
  },
  {
   "cell_type": "code",
   "execution_count": 5,
   "id": "5fc2353a",
   "metadata": {},
   "outputs": [
    {
     "name": "stdout",
     "output_type": "stream",
     "text": [
      "It is the weekend, yay!\n"
     ]
    }
   ],
   "source": [
    "import datetime\n",
    "\n",
    "day = datetime.datetime.today().weekday()\n",
    "\n",
    "if day < 5:\n",
    "    print(f\"Yes, unfortunately today is a weekday\")\n",
    "else: \n",
    "    print(f\"It is the weekend, yay!\")"
   ]
  },
  {
   "cell_type": "markdown",
   "id": "2c5e2d36",
   "metadata": {},
   "source": [
    "## Week 06"
   ]
  },
  {
   "cell_type": "markdown",
   "id": "30ab9a00",
   "metadata": {},
   "source": [
    "Write a program that takes a positive floating-point number as input and outputs an approximation of its square root. This fucntion should be called sqrt and this function cannot use the built in functions x ** .5 or math.sqrt(x)."
   ]
  },
  {
   "cell_type": "markdown",
   "id": "4f3ef66b",
   "metadata": {},
   "source": [
    "#### Background and Comments"
   ]
  },
  {
   "cell_type": "markdown",
   "id": "3f1c9535",
   "metadata": {},
   "source": [
    "This python program using the takes an input number and returns an approximation of the square root of the value. This was achieved using the netwon method of approximation of finding the square root of a value \n",
    "\n",
    "This topic was researched using the code repo on this Github [repo](https://github.com/ahartz1/approximate-square-root/blob/master/square_root.py) and other backgroun [info](https://python.pages.doc.ic.ac.uk/2021/lessons/lesson04/04-applied/06-newton.html)."
   ]
  },
  {
   "cell_type": "markdown",
   "id": "6debad9b",
   "metadata": {},
   "source": [
    "#### Code"
   ]
  },
  {
   "cell_type": "code",
   "execution_count": 6,
   "id": "6d882d42",
   "metadata": {},
   "outputs": [
    {
     "name": "stdout",
     "output_type": "stream",
     "text": [
      "1 iteration,  guess is 12.5\n",
      "2 iterations, guess is 7.25\n",
      "3 iterations, guess is 5.35\n",
      "4 iterations, guess is 5.01\n",
      "5 iterations, guess is 5.0\n",
      "The approximate square root of 25 is 5.000000000016778 with a precision of 0.0001\n"
     ]
    }
   ],
   "source": [
    "def sqrt(num, precision):\n",
    "    '''\n",
    "    Finds the square root to a pre-defined minimum precision using Newton's method\n",
    "    \n",
    "    num: number to be square rooted\n",
    "    precision: precision of Newton's method to be given \n",
    "\n",
    "    >>>squareroot(25,0.0001)\n",
    "    >>>The approximate square root of 25 is 5.000000000016778 with a precision of 0.0001\n",
    "    '''\n",
    "\n",
    "    # initial guess of half value to have square root completed\n",
    "    apxroot = num/2\n",
    "    n = 0\n",
    "    while abs(num - apxroot**2) > precision:\n",
    "        if n == 0: \n",
    "            print(\"{} iteration,  guess is {}\".format(n+1, round(apxroot,2)))\n",
    "        else:\n",
    "            print(\"{} iterations, guess is {}\".format(n+1, round(apxroot,2)))\n",
    "        apxroot  = (apxroot + num/apxroot)/2\n",
    "        n += 1\n",
    "    return apxroot\n",
    "\n",
    "num=25\n",
    "precision = 0.0001\n",
    "a = sqrt(num,precision)\n",
    "print(f\"The approximate square root of {num} is {a} with a precision of {precision}\") \n"
   ]
  },
  {
   "cell_type": "markdown",
   "id": "5c835ff4",
   "metadata": {},
   "source": [
    "## Week 07"
   ]
  },
  {
   "cell_type": "markdown",
   "id": "3172fb77",
   "metadata": {},
   "source": [
    "Write a program that reads in a text file and outputs the number of e's it contains."
   ]
  },
  {
   "cell_type": "markdown",
   "id": "d3337f5e",
   "metadata": {},
   "source": [
    "#### Background and Comments"
   ]
  },
  {
   "attachments": {
    "image.png": {
     "image/png": "[encoded data removed]"
    }
   },
   "cell_type": "markdown",
   "id": "e1f89f2d",
   "metadata": {},
   "source": [
    "This program takes a text file as input from the command line and counts the number of occurences the letter 'e' is present. This program will use the 'sampletextfile.txt' than contains placeholder infromation (Lorem ipsum) that will be used to count the number of e's in the file.\n",
    "\n",
    "Two things are done to complete this piece of analysis. Firstly the sys module is used to give a filename in the command line. Usingsys.argv[-1] gives a command line argument. The [-1] passes the last argument. If no txt file is given, the analysis runs off the current script. \n",
    "\n",
    "Background used to review these concepts: [URL1](https://www.knowledgehut.com/blog/programming/sys-argv-python-examples#what-are-command-line-arguments?-why-do-we-use%C2%A0them?%C2%A0) and [URL2](https://stackoverflow.com/questions/7033987/get-a-file-from-cli-input).\n",
    "\n",
    "Following this, the filename is then passed to a context manager (designated with the open) where the code below is then ran and the code is executed. Following code execution, the context manager will then close the file (in this case sampletextfile.txt) \n",
    "Background used to review context [manager](https://realpython.com/python-with-statement/).\n",
    "\n",
    "The codeblock contains a for loop to break the text file into a series of lines, words and letters so that the individual number of e's are added to the 'numberof_es' count and are added at the end.\n",
    "\n",
    "Pass 'python es.py sampletextfile.txt' for this to work as below. The code in es.py was set up for the command line interface, rather than in a Jupyter Notebook. \n",
    "\n",
    "![image.png](attachment:image.png)"
   ]
  },
  {
   "cell_type": "markdown",
   "id": "c6a5c819",
   "metadata": {},
   "source": [
    "#### Code "
   ]
  },
  {
   "cell_type": "code",
   "execution_count": 7,
   "id": "94826013",
   "metadata": {},
   "outputs": [
    {
     "name": "stdout",
     "output_type": "stream",
     "text": [
      "12\n"
     ]
    }
   ],
   "source": [
    "import sys\n",
    "filename = sys.argv[-1]\n",
    "\n",
    "with open(filename,'rt') as filename:\n",
    "    numberof_es=0\n",
    "    for line in filename:\n",
    "        words = line.split()\n",
    "        for i in words:\n",
    "            for letter in i:\n",
    "                if (letter=='e'):\n",
    "                    numberof_es=numberof_es+1\n",
    "print(numberof_es)"
   ]
  },
  {
   "cell_type": "markdown",
   "id": "711a8770",
   "metadata": {},
   "source": [
    "## Week 08"
   ]
  },
  {
   "cell_type": "markdown",
   "id": "8aa291fe",
   "metadata": {},
   "source": [
    "Write a program called plottask.py that displays a histogram of a normal distribution of a 1000 values with a mean of 5 and standard deviation of 2 and a plot of the function  h(x)=x3 in the range 0 to 10, \n",
    "on the one set of axes."
   ]
  },
  {
   "cell_type": "markdown",
   "id": "487fe8bc",
   "metadata": {},
   "source": [
    "#### Backgound and Comments"
   ]
  },
  {
   "cell_type": "markdown",
   "id": "2e095919",
   "metadata": {},
   "source": [
    "The subplot function within matplotlib will be used to show the histogram on the left, and the scatter plot on the right hand side \n",
    "\n",
    "Matplotlib source documentation was used for both scatterplots and histogram as well as subplots; [scatter]( https://matplotlib.org/stable/api/_as_gen/matplotlib.pyplot.scatter.html), [histogram](https://matplotlib.org/stable/api/_as_gen/matplotlib.pyplot.hist.html), and [subplot](https://matplotlib.org/stable/api/_as_gen/matplotlib.pyplot.subplots.html).\n",
    "\n",
    "In addition, the documentation of rendering mathematical formula such as $ X^3 $ using latex was read and applied in the below example using [Latex](https://matplotlib.org/stable/gallery/text_labels_and_annotations/tex_demo.html)."
   ]
  },
  {
   "cell_type": "markdown",
   "id": "adc18f27",
   "metadata": {},
   "source": [
    "#### Code "
   ]
  },
  {
   "cell_type": "code",
   "execution_count": 8,
   "id": "11a96208",
   "metadata": {},
   "outputs": [
    {
     "data": {
      "image/png": "[encoded data removed]",
      "text/plain": [
       "<Figure size 640x480 with 2 Axes>"
      ]
     },
     "metadata": {},
     "output_type": "display_data"
    }
   ],
   "source": [
    "import numpy as np\n",
    "import matplotlib.pyplot as plt\n",
    "\n",
    "np.random.seed(42)\n",
    "\n",
    "normal_distribution = np.random.normal(5,2,1000)\n",
    "\n",
    "# Histrogram\n",
    "plt.subplot(1,2,1)\n",
    "plt.hist(normal_distribution, label=\"Normal Distribution\",bins=20)\n",
    "plt.title(\"Normal Distribution\",fontsize=25)\n",
    "plt.ylabel(\"Frequency\", rotation=0,labelpad=40,fontsize=15)\n",
    "plt.xlabel(\"Number\",fontsize=15)\n",
    "plt.legend(fontsize=10)\n",
    "\n",
    "\n",
    "# Scatterplot\n",
    "x_data = np.array(range(1,11))\n",
    "y_data = x_data * 3\n",
    "\n",
    "plt.subplot(1,2,2)\n",
    "plt.scatter(x_data, y_data, label=\"$X^3$\",color=\"r\")\n",
    "plt.title(\"$h(x) = x^3$\",fontsize=25)\n",
    "plt.xlabel(\"$X$\",fontsize=15)\n",
    "plt.ylabel(\"$x^3$\",rotation=0,labelpad=20,fontsize=15)\n",
    "plt.legend(fontsize=10);\n",
    "# plt.show() not needed for Jupyter Notebook and semicolan added to above for jupyter notebook "
   ]
  }
 ],
 "metadata": {
  "kernelspec": {
   "display_name": "Python 3 (ipykernel)",
   "language": "python",
   "name": "python3"
  },
  "language_info": {
   "codemirror_mode": {
    "name": "ipython",
    "version": 3
   },
   "file_extension": ".py",
   "mimetype": "text/x-python",
   "name": "python",
   "nbconvert_exporter": "python",
   "pygments_lexer": "ipython3",
   "version": "3.11.5"
  }
 },
 "nbformat": 4,
 "nbformat_minor": 5
}
